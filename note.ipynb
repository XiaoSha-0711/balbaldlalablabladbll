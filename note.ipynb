{
 "cells": [
  {
   "cell_type": "markdown",
   "metadata": {},
   "source": [
    "**<a href='https://docs.google.com/document/d/1DfylM0_bENVyqEpfWuSKQRTZ84WJzHBj/edit'><font color=\"pale pink\" size = 10>技藝競賽講義</font></a>**\n",
    "\n",
    "<font size = 6 color=\"pale red\">看到字都可以放上去看看，有些有連結，像上面的講義連結</font>"
   ]
  },
  {
   "cell_type": "markdown",
   "metadata": {},
   "source": [
    "**<a href='https://zerojudge.tw/ShowThread?postid=27726&reply=20495#20495'><font color=\"pale pink\" size = 4>奇怪的解題方法超連結ww</font></a>**"
   ]
  },
  {
   "attachments": {},
   "cell_type": "markdown",
   "metadata": {},
   "source": [
    "**<font color = green size = 6>好用的快捷鍵：</font>**\n",
    "1. 在左邊的資料點一下按 alt + shift + r 可以直接開啟資料夾位置\n",
    "2. 編輯時 ctrl + h 可以取代\n",
    "3. win + v 可以開啟剪貼簿\n",
    "4. f5 執行\n",
    "5. shift + f5 中斷執行\n",
    "6. ctrl + / 多行註解，在一次取消\n",
    "7. shift + tab 可以消縮排\n",
    "8. 滾輪鍵按下去可以矩形選取超方便\n",
    "9. ctrl + (+, -) 可以縮放vscode畫面"
   ]
  },
  {
   "cell_type": "markdown",
   "metadata": {},
   "source": [
    "**<font color = green size = 6>一些要知道的題目</font>**\n",
    "* **<a href='https://www.youtube.com/watch?v=SE74vZQfvlY' style=\"color:#FFBBFF;\">背包問題</a>**\n",
    "* **<a style=\"color:#FFBBFF;\">最短路徑問題</a>**  (在下方演算法)\n",
    "* **<a href='https://www.youtube.com/watch?v=DhVLOS44yoY#t=730s' style=\"color:#FFBBFF;\">最長遞增子序列</a>**\n",
    "* **<a href='https://www.youtube.com/watch?v=vvuTz_YSBZA&t=77s' style=\"color:#FFBBFF;\">最長共同子序列</a>**\n",
    "* **<a href='https://www.youtube.com/watch?v=2ywDUuWx1Ss&t=210s' style=\"color:#FFBBFF;\">最大連續子序列和</a>**\n",
    "* **<a href='https://www.youtube.com/watch?v=VERQUsOj1ik' style=\"color:#FFBBFF;\">埃拉托賽尼質數篩檢法(建質數表)</a>**"
   ]
  },
  {
   "cell_type": "markdown",
   "metadata": {},
   "source": [
    "**<font color = green size = 6>演算法:</font>**\n",
    "* **<a href='https://www.youtube.com/watch?v=jathKNkeP90' style=\"color:#FFBBFF;\">貪婪演算法</a>**\n",
    "* **<a href='https://www.youtube.com/watch?v=1BAsAgdx7Ac' style=\"color:#FFBBFF;\">動態規劃</a>**\n",
    "* **<a href='https://www.youtube.com/watch?v=JLARzu7coEs&t' style=\"color:#FFBBFF;\">Dijkstra演算法</a>**\n",
    "* **<a href='https://www.youtube.com/watch?v=XzmTiO3j6p0&t' style=\"color:#FFBBFF;\">Floyd演算法</a>**\n",
    "* **<a href='https://www.youtube.com/watch?v=1RrA2wHz7SY&list=PLYGWqKJayiR5XR-_6j3tNcU4M6Tf7DubC' style=\"color:#FFBBFF;\">tarjan演算法(比較少用)</a>**\n",
    "* **<a href='https://www.youtube.com/watch?v=oLtvUWpAnTQ' style=\"color:#FFBBFF;\">BFS、DFS</a>**\n"
   ]
  },
  {
   "cell_type": "markdown",
   "metadata": {},
   "source": [
    "**<font color = green size = 6>一些好用的內建函式</font>**\n",
    "1. <a href='https://docs.python.org/3/library/itertools.html'><font color = \"yellow\">itertools：</font></a>\n",
    "<a href='https://docs.python.org/3/library/itertools.html#itertools.permutations'><font color = pink>permutations</font></a>／\n",
    "<a href='https://docs.python.org/3/library/itertools.html#itertools.combinations'><font color = pink>combanations</font></a>／\n",
    "<a href='https://docs.python.org/3/library/itertools.html#itertools.product'><font color = pink>product</font></a>／\n",
    "<a href='https://docs.python.org/3/library/itertools.html#itertools.compress'><font color = pink>compress</font></a>\n",
    "2. <a href='https://steam.oxxostudio.tw/category/python/library/collections.html'><font color = yellow>collections：</font></a>\n",
    "<a href='https://steam.oxxostudio.tw/category/python/library/collections.html#a6'><font color = pink>defaultdict</font></a>／\n",
    "<a href='https://steam.oxxostudio.tw/category/python/library/collections.html#a2'><font color = \"pink\">deque</font></a>\n",
    "3. <a href='https://docs.python.org/zh-cn/3/library/decimal.html'><font color = yellow>decimal：</font>\n",
    "<font color = pink>Decimal</font>\n",
    "<font color = #CCCCCC>／</font>\n",
    "<font color = pink>getcontext</font></a>\n",
    "4. <font color = yellow>zip：</font>https://ithelp.ithome.com.tw/articles/10218029\n",
    "5. <font color = yellow>heapq：</font>https://blog.csdn.net/weixin_43790276/article/details/107741332\n",
    "6. <font color = yellow>divmod：</font>https://www.runoob.com/python/python-func-divmod.html"
   ]
  },
  {
   "cell_type": "markdown",
   "metadata": {},
   "source": [
    "**<font color=\"pale pink\" size = 10>以下是一些小技巧</font>**"
   ]
  },
  {
   "cell_type": "markdown",
   "metadata": {},
   "source": [
    "**<font color = \"green\" size = 6>sum在陣列的一些特殊用法</font>**"
   ]
  },
  {
   "cell_type": "code",
   "execution_count": null,
   "metadata": {},
   "outputs": [],
   "source": [
    "lst = [[1, 2, 3, 4, 5], [6, 7, 8, 9, 10]]\n",
    "print(sum(lst, [])) # 拆括號\n",
    "print(list(map(sum, lst))) # 各陣列總和\n",
    "print(sum(sum(lst, []))) # 二維振烈總和\n",
    "print(sum(map(sum, lst))) # 二維振烈總和"
   ]
  },
  {
   "cell_type": "markdown",
   "metadata": {},
   "source": [
    "**<font color = \"green\" size = 6>\\*號的用法!!</font>**"
   ]
  },
  {
   "cell_type": "code",
   "execution_count": null,
   "metadata": {},
   "outputs": [],
   "source": [
    "\n",
    "Input = 'Spain Donna Elvira'\n",
    "country,*name = Input.split() #不確定到底有幾個資料，可以直接加*號\n",
    "print(f\"country:{country}\")\n",
    "print(f\"name:{name}\")"
   ]
  },
  {
   "cell_type": "code",
   "execution_count": null,
   "metadata": {},
   "outputs": [],
   "source": [
    "lst = [1, 2, 3, 4, 5, 6, 7]\n",
    "print(*lst) #1 2 3 4 5 6 7\n",
    "print(*lst,sep='') #1234567\n",
    "print(*lst, sep=', ')#1, 2, 3, 4, 5, 6, 7"
   ]
  },
  {
   "cell_type": "markdown",
   "metadata": {},
   "source": [
    "**<font color = \"green\" size = 6>eval()的特殊用法，可加入第二個參數(必須是字典資料型態)，來指定代數值</font>**"
   ]
  },
  {
   "cell_type": "code",
   "execution_count": null,
   "metadata": {},
   "outputs": [],
   "source": [
    "ans = eval(\"2+x\",{\"x\":2})   # x值為2\n",
    "print(ans)       # 4\n",
    "ans = eval(\"3*x+2+10+2*x\",{\"x\":1j})  #j或J為特定關鍵字，前方為自訂預設係數\n",
    "\n",
    "print(ans)       # (12+5j)\n",
    "print(ans.real)  # 無代數的值 = 12  (x的係數)\n",
    "print(ans.imag)  # 有代數的值 = 5   (常數項的係數)"
   ]
  },
  {
   "cell_type": "markdown",
   "metadata": {},
   "source": [
    "**<font color = green size = 6>eval()還可以處裡一些基本操做</font>**"
   ]
  },
  {
   "cell_type": "code",
   "execution_count": null,
   "metadata": {},
   "outputs": [],
   "source": [
    "eval('print(\"Hello world\")') #Hello world\n",
    "\n",
    "n = '[1, 2, 3, 4, 5, 6]'\n",
    "lst = eval(n)\n",
    "print(lst) #[1, 2, 3, 4, 5, 6]"
   ]
  },
  {
   "cell_type": "markdown",
   "metadata": {},
   "source": [
    "**<font color = green size = 6>pow很好用，我記得pow做次方比\\*\\*還有效率，而且還可以求於數</font>**"
   ]
  },
  {
   "cell_type": "code",
   "execution_count": null,
   "metadata": {},
   "outputs": [],
   "source": [
    "from time import time\n",
    "\n",
    "t1 = time()\n",
    "n = 2374859 ** 3029382 % 36123\n",
    "print(time() - t1) #31s\n",
    "t2 = time()\n",
    "n = pow(2374859, 3029382, 36123)\n",
    "print(time() - t2) #0s"
   ]
  },
  {
   "cell_type": "markdown",
   "metadata": {},
   "source": [
    "**<font color = green size = 6>一般的copy是淺複製，陣列裡的東西有換記憶體指沒錯，但是陣列裡的陣列還是會指著同一個記憶體</font>**"
   ]
  },
  {
   "cell_type": "code",
   "execution_count": null,
   "metadata": {},
   "outputs": [],
   "source": [
    "A = [0, 0, 0, [0, 0]]\n",
    "B = A.copy() #或 B = A[:]\n",
    "B[3][1] = 1\n",
    "print(f'A：{A}')\n",
    "print(f'B：{B}')\n",
    "B[0] = 1\n",
    "print(f'A：{A}')\n",
    "print(f'B：{B}')"
   ]
  },
  {
   "cell_type": "markdown",
   "metadata": {},
   "source": [
    "**<font color = green size = 6>所以複製的陣列裡面有陣列就要用深度複製deepcopy</font>**"
   ]
  },
  {
   "cell_type": "code",
   "execution_count": null,
   "metadata": {},
   "outputs": [],
   "source": [
    "import copy\n",
    "A = [0, 0, 0, [0, 0]]\n",
    "B = copy.deepcopy(A)\n",
    "B[3][1] = 1\n",
    "print(f'A：{A}')\n",
    "print(f'B：{B}')\n",
    "B[0] = 1\n",
    "print(f'A：{A}')\n",
    "print(f'B：{B}')"
   ]
  },
  {
   "cell_type": "markdown",
   "metadata": {},
   "source": [
    "**<font color = green size = 6>基本的二元數長這樣</font>**"
   ]
  },
  {
   "cell_type": "code",
   "execution_count": null,
   "metadata": {},
   "outputs": [],
   "source": [
    "class NODE:\n",
    "    def __init__(self, val= None):\n",
    "        self.val = val\n",
    "        self.left = None\n",
    "        self.right = None\n",
    "    \n",
    "    def Insert(self, num):\n",
    "        if(self.val):   #如果已經有跟節點\n",
    "            if(self.val > num): #如果這個數比我小，那它要在我左子數\n",
    "                if(self.left):  #如果我左子節點已經有東西了\n",
    "                    self.left.Insert(num)   #那num要加在我左子節點下面\n",
    "                else:   #如果我左子節點還沒有東西\n",
    "                    self.left = NODE(num)   #那就直接加在我左子節點\n",
    "            else:   #如果這個數比我大，那它要在我右子數\n",
    "                if(self.right): #如果我右子節點已經有東西了\n",
    "                    self.right.Insert(num)  #那num要加在我右子節點下面\n",
    "                else:   #如果我右子節點還沒有東西\n",
    "                    self.right = NODE(num)  #那就直接加在我右子節點\n",
    "        else:   #如果沒有跟節點\n",
    "            self.val = num  #那這個數當根節點\n",
    "\n",
    "tree = NODE()\n",
    "for i in range(int(input())):\n",
    "    tree.Insert(i)"
   ]
  },
  {
   "cell_type": "markdown",
   "metadata": {},
   "source": [
    "**<font size = 7 color=\"orange\">最大連續子序列和</font>**\n",
    "<font size = 5 color=\"pale red\">例如，對於  [-2, 1, -3, 4, -1, 2, 1, -5, 4]  來說，連續子數組  [4,-1,2,1]  的和最大，為6。</font>"
   ]
  },
  {
   "cell_type": "code",
   "execution_count": null,
   "metadata": {},
   "outputs": [],
   "source": [
    "lst = [-2, 1, -3, 4, -1, 2, 1, -5, 4]\n",
    "for i in range(1, len(lst)): #用這方法只需要一個迴圈\n",
    "    if(lst[i-1] > 0): #只要我前一格是正數，那我加上他我一定會變大\n",
    "        lst[i] += lst[i-1] #i這格加上前一格(i-1)\n",
    "#print(lst) #lst的每格就是他最大的數了\n",
    "print(max(lst)) #把最大的輸出"
   ]
  },
  {
   "cell_type": "markdown",
   "metadata": {},
   "source": [
    "**<font size = 7 color=\"orange\">任何進位轉十進位</font>**\n",
    "<font size = 5 color=\"pale red\">int() base must be >= 2 and <= 36, or 0</font>"
   ]
  },
  {
   "cell_type": "code",
   "execution_count": null,
   "metadata": {},
   "outputs": [],
   "source": [
    "print(int('1000', 0)) #10進位\n",
    "print(int('1000', 2))\n",
    "print(int('1000', 10)) #10進位\n",
    "print(int('1000', 16))\n",
    "print(int('1000', 20))\n",
    "print(int('1000', 36))"
   ]
  },
  {
   "cell_type": "markdown",
   "metadata": {},
   "source": [
    "**<font size = 7 color=\"orange\">精確的小數</font>**\n",
    "<font size = 5 color=\"pale red\">因為電腦是二進位，所以不是所有的十進位小數都能存的準確</font>"
   ]
  },
  {
   "cell_type": "code",
   "execution_count": null,
   "metadata": {},
   "outputs": [],
   "source": [
    "from decimal import Decimal\n",
    "print(0.0001 * 3)\n",
    "print(Decimal('0.0001')*3) #裡面要放str\n",
    "print(Decimal(0.0001)*3) #如果放int那一樣會不準\n",
    "n = 'Decimal(\"0.0001\")*3' #也可以丟eval用\n",
    "print(eval(n))"
   ]
  },
  {
   "cell_type": "markdown",
   "metadata": {},
   "source": [
    "**<font size = 7 color=\"orange\">質數判斷</font>**\n",
    "<font size = 5 color=\"pale red\">可以用 for_else: 來寫就甭一個開關了，如果迴圈是正常離開，那就會進else。</font>"
   ]
  },
  {
   "cell_type": "code",
   "execution_count": null,
   "metadata": {},
   "outputs": [],
   "source": [
    "lst = [3, 10, 97, 120, 1023]\n",
    "for i in lst:\n",
    "    for j in range(2, int(i**0.5)+1): #這裡j只要跑到i開根號+1就好了，節省時間，不然很容易超時\n",
    "        if(i % j == 0): #如果j是i的因數就break，代表i不是質數\n",
    "            print(f'{str(i).zfill(4)} 不是質數') #順便教個zfill()，它可以幫你的str補0，總共幾位填()裡，這裡是寫捕到4位\n",
    "            break\n",
    "    else: #跑到i開根號了，代表找不到因數，正常離開迴圈，所以到else\n",
    "        print(f'{str(i).zfill(4)} 是質數')"
   ]
  },
  {
   "cell_type": "markdown",
   "metadata": {},
   "source": [
    "**<font size = 7 color=\"orange\">用heapq做最短路徑(矩陣左上到右下)</font>**"
   ]
  },
  {
   "cell_type": "code",
   "execution_count": null,
   "metadata": {},
   "outputs": [],
   "source": [
    "import heapq\n",
    "for _ in range(int(input())):\n",
    "    row = int(input())\n",
    "    col = int(input())\n",
    "    lst = []\n",
    "    table = [[float('inf') for j in range(col)] for i in range(row)]\n",
    "    visited = [[True for j in range(col)] for i in range(row)]\n",
    "    for i in range(row):\n",
    "        lst.append(list(map(int,input().split())))\n",
    "    table[0][0] = lst[0][0]\n",
    "    direction = ((1, 0), (0, 1), (-1, 0), (0, -1))\n",
    "    queue = [(table[0][0], 0, 0)]\n",
    "    while(queue):\n",
    "        val,x,y = heapq.heappop(queue)\n",
    "        visited[x][y] = False\n",
    "        for a,b in direction:\n",
    "            a += x\n",
    "            b += y\n",
    "            if(0 <= a < row and 0 <= b < col and visited[a][b]):\n",
    "                table[a][b] = min(table[a][b], val + lst[a][b])\n",
    "                heapq.heappush(queue, (table[a][b], a, b))\n",
    "    print(table[-1][-1])"
   ]
  },
  {
   "cell_type": "markdown",
   "metadata": {},
   "source": [
    "**<font size = 7 color=\"orange\">鐵條切割問題(動態規劃)</font>**"
   ]
  },
  {
   "cell_type": "code",
   "execution_count": null,
   "metadata": {},
   "outputs": [],
   "source": [
    "#https://zerojudge.ntub.tw/team/problems/150/text\n",
    "price =   [0, 1, 5, 8, 9, 10, 12, 17, 20, 24, 25]\n",
    "n = int(input())\n",
    "table = [0] *(n+1)\n",
    "\n",
    "for i in range(1, n+1):\n",
    "    M = 0\n",
    "    for j in range(1, i+1):\n",
    "        M = max(M, price[j] + table[i-j])\n",
    "    table[i] = M\n",
    "print(table[i])"
   ]
  },
  {
   "cell_type": "markdown",
   "metadata": {},
   "source": [
    "**<font color = \"pale red\" size = 7>比較難的題目</font>**"
   ]
  },
  {
   "cell_type": "code",
   "execution_count": null,
   "metadata": {},
   "outputs": [],
   "source": [
    "# 109 模擬試題 4-1\n",
    "# https://youtu.be/tckLcRXz-j8 這集看不懂就從1開始看ㄅ\n",
    "from sys import stdin\n",
    "\n",
    "def input():\n",
    "    return stdin.readline().strip()\n",
    "\n",
    "def DFS(x):\n",
    "    global time\n",
    "    dfn[x] = low[x] = time\n",
    "    time += 1\n",
    "    child = 0\n",
    "    for y in range(len(dic)):\n",
    "        if(dic[x][y]):\n",
    "            if(dfn[y] == 0): # y還沒被訪問\n",
    "                child += 1\n",
    "                fa[y] = x\n",
    "                DFS(y)\n",
    "                if(fa[x] == -1 and child >= 2):\n",
    "                    output.add(x)\n",
    "                if(fa[x] != -1 and low[y] >= dfn[x]):\n",
    "                    output.add(x)\n",
    "                # if(low[y] > dfn[x]):\n",
    "                #   x -> y 是橋    \n",
    "                low[x] = min(low[x], low[y])\n",
    "            elif(y != fa[x]):\n",
    "                low[x] = min(low[x], low[y])\n",
    "\n",
    "n = int(input())\n",
    "while n:\n",
    "    if(not n):  break\n",
    "    dic = [[0 for i in range(n+1)] for i in range(n+1)]\n",
    "    dfn = [0 for i in range(n+1)] # dfn為0代表沒被訪問\n",
    "    low = [0 for i in range(n+1)]\n",
    "    fa = [-1 for i in range(n+1)]\n",
    "\n",
    "    # 建與誰有橋\n",
    "    k = input()\n",
    "    while(k != '0'):    \n",
    "        a,*lst = map(int,k.split())\n",
    "        for i in lst:\n",
    "            dic[a][i] = dic[i][a] = 1\n",
    "        k = input()\n",
    "\n",
    "    time = 1\n",
    "    output = set()\n",
    "    for i in range(1, n+1): # 沒個點都跑，才不會有沒有朋友的點沒被跑到\n",
    "        if(dfn[i] == 0):\n",
    "            DFS(i)\n",
    "    print(len(output))\n",
    "    n = int(input())"
   ]
  },
  {
   "cell_type": "code",
   "execution_count": null,
   "metadata": {},
   "outputs": [],
   "source": [
    "# 111 模擬賽 D 對稱二元樹\n",
    "from sys import stdin\n",
    "\n",
    "def Input():\n",
    "    return stdin.readline().rstrip()\n",
    "\n",
    "memo = []\n",
    "def tree(n):\n",
    "    if memo[n]:\n",
    "        return memo[n]\n",
    "    cnt = 0\n",
    "    for i in range(1, n+1):\n",
    "        cnt += tree(i-1) * tree(n-i)\n",
    "    memo[n] = cnt\n",
    "    return memo[n]\n",
    "\n",
    "#catalan\n",
    "for _ in range(int(Input())):\n",
    "    n = int(Input())\n",
    "    memo = [0 for i in range(n + 1)]\n",
    "    memo[0] = memo[1] = 1\n",
    "    ans = 0\n",
    "    if n < 2:\n",
    "        ans = memo[n]\n",
    "    elif n % 2 == 1:\n",
    "        ans = tree((n - 1) // 2)\n",
    "    print(ans)"
   ]
  },
  {
   "cell_type": "code",
   "execution_count": null,
   "metadata": {},
   "outputs": [],
   "source": [
    "# 111 模擬題 T 路徑\n",
    "from sys import stdin\n",
    "\n",
    "def Input():\n",
    "    return stdin.readline().rstrip()\n",
    "\n",
    "def Do(p, path):\n",
    "    isleaf = True\n",
    "    path = path + [tree[p]]\n",
    "    if(p*2 < len(tree) and tree[p*2] != 'null'): # 有左子樹\n",
    "        Do(p*2, path)\n",
    "        isleaf = False\n",
    "    if(p*2+1 < len(tree) and tree[p*2 +1] != 'null'): # 有右子樹\n",
    "        Do(p*2 +1, path)\n",
    "        isleaf = False\n",
    "    if(isleaf):\n",
    "        print(*path, sep='->')\n",
    "\n",
    "output = []\n",
    "tree = [''] + Input().split(',')\n",
    "Do(1, []) # 因為已經是二元樹的list了，所以直接走就好了"
   ]
  },
  {
   "cell_type": "code",
   "execution_count": null,
   "metadata": {},
   "outputs": [],
   "source": [
    "# 111 模擬題 E2 迷宮 矩陣迷宮(左上走到右下)\n",
    "from sys import stdin\n",
    "import heapq\n",
    "\n",
    "def Input():\n",
    "    return stdin.readline().rstrip()\n",
    "\n",
    "for _ in range(int(Input())):\n",
    "    row = int(Input())\n",
    "    col = int(Input())\n",
    "    lst = []\n",
    "    table = [[float('inf') for j in range(col)] for i in range(row)]\n",
    "    visited = [[1 for j in range(col)] for i in range(row)]\n",
    "    for i in range(row):\n",
    "        lst.append(list(map(int,Input().split())))\n",
    "    if(row == 1 or col == 1):\n",
    "        print(sum(sum(lst, [])))\n",
    "        continue\n",
    "    table[0][0] = lst[0][0]\n",
    "    direction = ((0, 1), (1, 0), (0, -1), (-1, 0))\n",
    "    queue = []\n",
    "    heapq.heappush(queue, (lst[0][0], (0, 0)))\n",
    "    while(visited[-1][-1] == True):\n",
    "        num, (x, y) = heapq.heappop(queue)\n",
    "        visited[x][y] = 0\n",
    "        for a,b in direction:\n",
    "            a += x\n",
    "            b += y\n",
    "            if(0 <= a < row and 0 <= b < col and visited[a][b]):\n",
    "                t = lst[a][b] + num\n",
    "                if(table[a][b] > t):\n",
    "                    table[a][b] = t\n",
    "                    heapq.heappush(queue, (table[a][b], (a, b))) # 有變小在進queue，如果每次都加，會多跑不必要的點很多次，會超時。\n",
    "    print(table[-1][-1])"
   ]
  },
  {
   "cell_type": "markdown",
   "metadata": {},
   "source": [
    "**<font color = \"pale red\" size = 7>我另外找的題目</font>**\n",
    "**<font size = 6 color=\"green\">zerojudge 上的Uva題目</font>**<br>\n",
    "**<font color = red size = 6>★</font>**<br>\n",
    "&emsp;**<a href='https://zerojudge.tw/ShowProblem?problemid=a467' style=\"color:#FFBBFF;\">a467: 11398 - The Base-1 Number System</a>**<br>\n",
    "&emsp;**<a href='https://zerojudge.tw/ShowProblem?problemid=a519' style=\"color:#FFBBFF;\">a519: 12459 - Bees' ancestors</a>**<br>\n",
    "&emsp;**<a href='https://zerojudge.tw/ShowProblem?problemid=a520' style=\"color:#FFBBFF;\">a520: 12416 - Excessive Space Remover</a>**<br>\n",
    "&emsp;**<a href='https://zerojudge.tw/ShowProblem?problemid=a522' style=\"color:#FFBBFF;\">a522: 12455 - Bars</a>**<br>\n",
    "&emsp;**<a href='https://zerojudge.tw/ShowProblem?problemid=a537' style=\"color:#FFBBFF;\">a537: 10789 - Prime Frequency</a>**<br>\n",
    "&emsp;**<a href='https://zerojudge.tw/ShowProblem?problemid=a539' style=\"color:#FFBBFF;\">a539: 10327 - Flip Sort</a>**<br>\n",
    "&emsp;**<a href='https://zerojudge.tw/ShowProblem?problemid=a540' style=\"color:#FFBBFF;\">a540: 10684 - The jackpot</a>**<br>\n",
    "&emsp;**<a href='https://zerojudge.tw/ShowProblem?problemid=a671' style=\"color:#FFBBFF;\">a671: 00113 - Power of Cryptography</a>**<br>\n",
    "&emsp;**<a href='https://zerojudge.tw/ShowProblem?problemid=a737' style=\"color:#FFBBFF;\">a737: 10041 - Vito's family</a>**<br>\n",
    "&emsp;**<a href='https://zerojudge.tw/ShowProblem?problemid=b304' style=\"color:#FFBBFF;\">b304: 00673 - Parentheses Balance</a>**<br>\n",
    "&emsp;**<a href='https://zerojudge.tw/ShowProblem?problemid=c119' style=\"color:#FFBBFF;\">c119: 10220 - I Love Big Numbers</a>**<br>\n",
    "&emsp;**<a href='https://zerojudge.tw/ShowProblem?problemid=c039' style=\"color:#FFBBFF;\">c039: 00100 - The 3n + 1 problem</a>**<br>\n",
    "&emsp;**<a href='https://zerojudge.tw/ShowProblem?problemid=f434' style=\"color:#FFBBFF;\">f434: 458 - The Decoder</a>**<br>\n",
    "\n",
    "\n",
    "**<font color = red size = 6>★★</font>**<br>\n",
    "&emsp;**<a href='https://zerojudge.tw/ShowProblem?problemid=a469' style=\"color:#FFBBFF;\">a469: 10063 - Knuth's Permutation</a>**<br>\n",
    "&emsp;**<a href='https://zerojudge.tw/ShowProblem?problemid=a518' style=\"color:#FFBBFF;\">a518: 12468 - Zapping</a>**<br>\n",
    "&emsp;**<a href='https://zerojudge.tw/ShowProblem?problemid=d040' style=\"color:#FFBBFF;\">d040: 11207 - The easiest way</a>**<br>\n",
    "&emsp;**<a href='https://zerojudge.tw/ShowProblem?problemid=c013' style=\"color:#FFBBFF;\">c013: 00488 - Triangle Wave</a>**<br>\n",
    "&emsp;**<a href='https://zerojudge.tw/ShowProblem?problemid=c067' style=\"color:#FFBBFF;\">c067: 00591 - Box of Bricks</a>**<br>\n",
    "&emsp;**<a href='https://zerojudge.tw/ShowProblem?problemid=e544' style=\"color:#FFBBFF;\">e544: 00612 - DNA Sorting</a>**<br>\n",
    "\n",
    "\n",
    "**<font color = red size = 6>★★★</font>**<br>\n",
    "&emsp;**<a href='https://zerojudge.tw/ShowProblem?problemid=a674' style=\"color:#FFBBFF;\">a674: 10048 - Audiophobia</a>**<br>\n",
    "&emsp;**<a href='https://zerojudge.tw/ShowProblem?problemid=a676' style=\"color:#FFBBFF;\">a676: 00111 - History Grading</a>**<br>\n",
    "&emsp;**<a href='https://zerojudge.tw/ShowProblem?problemid=c073' style=\"color:#FFBBFF;\">c073: 00101 - The Blocks Problem</a>**<br>\n",
    "&emsp;**<a href='https://zerojudge.tw/ShowProblem?problemid=c082' style=\"color:#FFBBFF;\">c082: 00118 - Mutant Flatworld Expolrers</a>**<br>\n",
    "\n",
    "\n",
    "\n",
    "\n"
   ]
  }
 ],
 "metadata": {
  "kernelspec": {
   "display_name": "Python 3.10.7 64-bit",
   "language": "python",
   "name": "python3"
  },
  "language_info": {
   "codemirror_mode": {
    "name": "ipython",
    "version": 3
   },
   "file_extension": ".py",
   "mimetype": "text/x-python",
   "name": "python",
   "nbconvert_exporter": "python",
   "pygments_lexer": "ipython3",
   "version": "3.10.7"
  },
  "orig_nbformat": 4,
  "vscode": {
   "interpreter": {
    "hash": "1000a9df433a1eef3f3873005c55e24a0be73ef58623133a0ab4f06f88301413"
   }
  }
 },
 "nbformat": 4,
 "nbformat_minor": 2
}
